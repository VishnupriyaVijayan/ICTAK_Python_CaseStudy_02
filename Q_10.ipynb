{
 "cells": [
  {
   "cell_type": "raw",
   "id": "fdc96ef0",
   "metadata": {},
   "source": [
    "10. Create a base class rectangle with attributes length and breadth, methods area and perimeter.\n",
    "a. Save the rectangle class as a python file rectangle.py file.\n",
    "b. Open another python script and import the rectangle.py file.\n",
    "c. In the newly created script derive a child class called Parallelepiped class inheriting from the Rectangle class and with a height attribute and another Volume() method to calculate the volume of the Parallelepiped.\n",
    "d. Now create objects for parent class and child class in newly created script and access methods of parent class and child class.\n",
    "(Upload the rectangle.py file and python script of question 10 as separate files in github and share the link Paatshala)"
   ]
  },
  {
   "cell_type": "code",
   "execution_count": 1,
   "id": "aa53aac3",
   "metadata": {},
   "outputs": [],
   "source": [
    "import rectangle as r\n",
    "\n",
    "class Parallelepiped(r.Rectangle):\n",
    "    \n",
    "    def __init__(self,a1,a2,a3):\n",
    "        self.h=a3\n",
    "        r.Rectangle.__init__(self,a1,a2)\n",
    "        \n",
    "    def Volume(self):\n",
    "        self.volume=self.Area()*self.h\n",
    "        return (print(\"height:\",self.h,\"\\t Volume: \",self.volume))   "
   ]
  },
  {
   "cell_type": "code",
   "execution_count": 2,
   "id": "74ef8bf0",
   "metadata": {},
   "outputs": [
    {
     "name": "stdout",
     "output_type": "stream",
     "text": [
      "length:  4\n",
      "breadth:  5\n",
      "Area : 20\n",
      "Perimeter : 18\n"
     ]
    }
   ],
   "source": [
    "p1=r.Rectangle(4,5)\n",
    "p1.display()"
   ]
  },
  {
   "cell_type": "code",
   "execution_count": 3,
   "id": "4e31a943",
   "metadata": {},
   "outputs": [
    {
     "name": "stdout",
     "output_type": "stream",
     "text": [
      "height: 6 \t Volume:  120\n",
      "length:  4\n",
      "breadth:  5\n",
      "Area : 20\n",
      "Perimeter : 18\n"
     ]
    }
   ],
   "source": [
    "p2=Parallelepiped(4,5,6)\n",
    "p2.Volume()\n",
    "p2.display()"
   ]
  },
  {
   "cell_type": "code",
   "execution_count": null,
   "id": "bcd8afff",
   "metadata": {},
   "outputs": [],
   "source": []
  }
 ],
 "metadata": {
  "kernelspec": {
   "display_name": "Python 3",
   "language": "python",
   "name": "python3"
  },
  "language_info": {
   "codemirror_mode": {
    "name": "ipython",
    "version": 3
   },
   "file_extension": ".py",
   "mimetype": "text/x-python",
   "name": "python",
   "nbconvert_exporter": "python",
   "pygments_lexer": "ipython3",
   "version": "3.8.8"
  }
 },
 "nbformat": 4,
 "nbformat_minor": 5
}
