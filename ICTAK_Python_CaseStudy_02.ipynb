{
 "cells": [
  {
   "cell_type": "raw",
   "id": "34bd057c",
   "metadata": {},
   "source": [
    "1. Write a Python function to sum all the numbers in a list. (Create a list and get list elements from user)"
   ]
  },
  {
   "cell_type": "code",
   "execution_count": 1,
   "id": "54ef3ae1",
   "metadata": {},
   "outputs": [
    {
     "name": "stdout",
     "output_type": "stream",
     "text": [
      "Enter elements: 1,4,7,9,10,12,15,7,9,13,17,44\n",
      " Sum of all elements in  [1.0, 4.0, 7.0, 9.0, 10.0, 12.0, 15.0, 7.0, 9.0, 13.0, 17.0, 44.0] is:  148.0\n"
     ]
    }
   ],
   "source": [
    "def addlist(listn):\n",
    "    summ=0\n",
    "    for k in list1:\n",
    "        summ+=k\n",
    "    return summ\n",
    "\n",
    "list1=list(map(float,input(\"Enter elements: \").split(\",\")))\n",
    "print(\" Sum of all elements in \",list1, \"is: \",addlist(list1))"
   ]
  },
  {
   "cell_type": "raw",
   "id": "46fb5864",
   "metadata": {},
   "source": [
    "2.Write a Python function that checks whether a passed string is palindrome or not."
   ]
  },
  {
   "cell_type": "code",
   "execution_count": 2,
   "id": "65514a99",
   "metadata": {},
   "outputs": [
    {
     "name": "stdout",
     "output_type": "stream",
     "text": [
      "Enter a string: MalaYalam\n",
      "It is a palindrome\n"
     ]
    }
   ],
   "source": [
    "def checkpalindrome(lstr):\n",
    "    if lstr[::-1]==lstr:\n",
    "        return 1\n",
    "    else:\n",
    "        return 0\n",
    "lstr1=input(\"Enter a string: \")\n",
    "print(\"It is a palindrome\") if checkpalindrome(lstr1.lower()) else print(\"Not a palindrome.\")\n",
    "    "
   ]
  },
  {
   "cell_type": "raw",
   "id": "4da21824",
   "metadata": {},
   "source": [
    "3. Write a Python recursive function to find the Fibonacci series. Get the limit from the user"
   ]
  },
  {
   "cell_type": "code",
   "execution_count": 3,
   "id": "91f67e74",
   "metadata": {},
   "outputs": [
    {
     "name": "stdout",
     "output_type": "stream",
     "text": [
      "Enter the range: 10,200\n",
      "[0, 1, 1, 2, 3, 5, 8, 13, 21, 34, 55, 89, 144]\n",
      "Fibonacci series in the range 10 and 200 is [13, 21, 34, 55, 89, 144]\n"
     ]
    }
   ],
   "source": [
    "def fibonaccin(listFib,high_b):\n",
    "    \n",
    "    if listFib[-1]==high_b:\n",
    "        return (listFib)        \n",
    "    elif listFib[-1]>high_b:\n",
    "        listFib=listFib[:-1]\n",
    "        print(listFib)\n",
    "        return (listFib)   \n",
    "    else:\n",
    "        a=listFib[-1]+listFib[-2]\n",
    "        listFib.append(a)\n",
    "        return fibonaccin(listFib,high_b)\n",
    "        \n",
    "low_a,high_b=[int(x) for x in input(\"Enter the range: \").split(\",\")]\n",
    "fibs=[0,1]\n",
    "fibs=fibonaccin(fibs,high_b)\n",
    "result = list(filter(lambda x: (x>=low_a), fibs)) \n",
    "print(\"Fibonacci series in the range {} and {} is {}\".format(low_a,high_b,result))    "
   ]
  },
  {
   "cell_type": "raw",
   "id": "e4780df7",
   "metadata": {},
   "source": [
    "4. Write a Python recursive function to print the multiplication table of given number"
   ]
  },
  {
   "cell_type": "code",
   "execution_count": 4,
   "id": "30eeb99f",
   "metadata": {},
   "outputs": [
    {
     "name": "stdout",
     "output_type": "stream",
     "text": [
      "Enter value of x and n: 13,25\n",
      "******************************\n",
      "13 x 25  = 325\n",
      "13 x 24  = 312\n",
      "13 x 23  = 299\n",
      "13 x 22  = 286\n",
      "13 x 21  = 273\n",
      "13 x 20  = 260\n",
      "13 x 19  = 247\n",
      "13 x 18  = 234\n",
      "13 x 17  = 221\n",
      "13 x 16  = 208\n",
      "13 x 15  = 195\n",
      "13 x 14  = 182\n",
      "13 x 13  = 169\n",
      "13 x 12  = 156\n",
      "13 x 11  = 143\n",
      "13 x 10  = 130\n",
      "13 x 9   = 117\n",
      "13 x 8   = 104\n",
      "13 x 7   = 91 \n",
      "13 x 6   = 78 \n",
      "13 x 5   = 65 \n",
      "13 x 4   = 52 \n",
      "13 x 3   = 39 \n",
      "13 x 2   = 26 \n",
      "13 x 1   = 13 \n"
     ]
    }
   ],
   "source": [
    "def multable(x,n):\n",
    "    if n==1:\n",
    "        print(\"{:<2} x {:<3} = {:<3}\".format(x,n,x*n))\n",
    "        return\n",
    "    else:\n",
    "        print(\"{:<2} x {:<3} = {:<3}\".format(x,n,x*n))\n",
    "        multable(x,n-1)\n",
    " \n",
    "x,n=map(int,input(\"Enter value of x and n: \").split(\",\"))\n",
    "print(\"*\"*30)\n",
    "multable(x,n)        \n",
    "    "
   ]
  },
  {
   "cell_type": "raw",
   "id": "ac2280c8",
   "metadata": {},
   "source": [
    "5. Define a function which counts vowels and consonant in a word."
   ]
  },
  {
   "cell_type": "code",
   "execution_count": 5,
   "id": "0130c61d",
   "metadata": {},
   "outputs": [
    {
     "name": "stdout",
     "output_type": "stream",
     "text": [
      "Input a string of alphabets without special characters: qWeRtYuIopOkJuhYgrDeSwq\n",
      "Vowels : {'u', 'o', 'e', 'i'}  Count: 7\n",
      "Consonants : {'h', 'y', 'w', 's', 'd', 'g', 'k', 'j', 'q', 'p', 'r', 't'}  Count: 16\n"
     ]
    }
   ],
   "source": [
    "def countVowCon(listword):\n",
    "    vow=['a','e','i','o','u']\n",
    "    listvow=list(filter(lambda k: k in vow,listword))\n",
    "    listcon=list(filter(lambda k: k not in listvow ,listword))\n",
    "    print(\"Vowels : {}  Count: {}\".format(set(listvow),len(listvow)))\n",
    "    print(\"Consonants : {}  Count: {}\".format(set(listcon),len(listcon)))\n",
    "    \n",
    "str=input(\"Input a string of alphabets without special characters: \")\n",
    "countVowCon(str.lower())        "
   ]
  },
  {
   "cell_type": "raw",
   "id": "800a234a",
   "metadata": {},
   "source": [
    "6. Define a function that accepts lowercase words and returns uppercase words."
   ]
  },
  {
   "cell_type": "code",
   "execution_count": 6,
   "id": "a83e2277",
   "metadata": {},
   "outputs": [
    {
     "name": "stdout",
     "output_type": "stream",
     "text": [
      "Input a string of alphabets without special characters: vishnupriya\n",
      "VISHNUPRIYA\n"
     ]
    }
   ],
   "source": [
    "def lowtoup(lstr):\n",
    "    return lstr.upper()\n",
    "str=input(\"Input a string of alphabets without special characters: \")\n",
    "print(lowtoup(str))"
   ]
  },
  {
   "cell_type": "raw",
   "id": "88a99114",
   "metadata": {},
   "source": [
    "7. Write a Python program to remove ‘None’ values from a given list using the lambda function.\n",
    "Given input = [12, 0, None, 23, None, -55, 234, 89, None, 0, 6, -12] Expected output = [12, 0, 23, -55, 234, 89, 0, 6, -12]\n"
   ]
  },
  {
   "cell_type": "code",
   "execution_count": 7,
   "id": "1b4306c3",
   "metadata": {},
   "outputs": [
    {
     "name": "stdout",
     "output_type": "stream",
     "text": [
      "[12, 0, 23, -55, 234, 89, 0, 6, -12]\n"
     ]
    }
   ],
   "source": [
    "list1=[12, 0, None, 23, None, -55, 234, 89, None, 0, 6, -12]\n",
    "result=list(filter(lambda k: k!=None,list1))\n",
    "print(result)"
   ]
  },
  {
   "cell_type": "raw",
   "id": "28ffeb05",
   "metadata": {},
   "source": [
    "8. Write a Rectangle class in Python language, allowing you to build a rectangle with length and width attributes.\n",
    "a. Create a Perimeter() method to calculate the perimeter of the rectangle and a Area() method to calculate the area of the rectangle.\n",
    "b. Create a method display() that display the length, width, perimeter and area of an object created using an instantiation on rectangle class.\n",
    "c. Create a Parallelepiped child class inheriting from the Rectangle class and with a height attribute and another Volume() method to calculate the volume of the Parallelepiped"
   ]
  },
  {
   "cell_type": "code",
   "execution_count": 9,
   "id": "b67f3f96",
   "metadata": {},
   "outputs": [
    {
     "name": "stdout",
     "output_type": "stream",
     "text": [
      "length:  3\n",
      "breadth:  4\n",
      "Area : 12\n",
      "Primeter : 14\n",
      "******************************\n",
      "length:  2\n",
      "breadth:  3\n",
      "Area : 6\n",
      "Primeter : 10\n",
      "height: 4 \t Volume:  24\n"
     ]
    }
   ],
   "source": [
    "class Rectangle:\n",
    "    \n",
    "    def __init__(self,l,b):\n",
    "        self.l=l\n",
    "        self.b=b\n",
    "        \n",
    "    def Permeter(self):\n",
    "        perimeter=2*(self.l+self.b)\n",
    "        return (perimeter)\n",
    "    \n",
    "    def Area(self):\n",
    "        area=self.l*self.b\n",
    "        return (area)\n",
    "    \n",
    "    def display(self):\n",
    "        print(\"length: \",self.l)\n",
    "        print(\"breadth: \",self.b)\n",
    "        print(\"Area :\",self.Area())\n",
    "        print(\"Primeter :\",self.Permeter())\n",
    "\n",
    "class Parallelepiped(Rectangle):\n",
    "    \n",
    "    def __init__(self,a1,a2,a3):\n",
    "        self.h=a3\n",
    "        Rectangle.__init__(self,a1,a2)\n",
    "        \n",
    "    def Volume(self):\n",
    "        self.volume=self.Area()*self.h\n",
    "        return (print(\"height:\",self.h,\"\\t Volume: \",self.volume))         \n",
    "        \n",
    "\n",
    "p1=Rectangle(3,4)    \n",
    "p1.display()\n",
    "print(\"*\"*30)\n",
    "p2=Parallelepiped(2,3,4)\n",
    "p2.display()\n",
    "p2.Volume()"
   ]
  },
  {
   "cell_type": "raw",
   "id": "b204f26c",
   "metadata": {},
   "source": [
    "9. Create a Python class called BankAccount which represents a bank account, having as attributes: accountNumber (numeric type), name (name of the account owner as string type), balance.\n",
    "a. Create a constructor with parameters: accountNumber, name, balance.\n",
    "b. Create a Deposit() method which manages the deposit actions.\n",
    "c. Create a Withdrawal() method which manages withdrawals actions.\n",
    "d. Create an bankFees() method to apply the bank fees with a percentage of 5% of the balance account.\n",
    "e. Create a display() method to display account details.\n",
    "f. Give the complete code for the BankAccount class.\n",
    "        \n",
    "    \n"
   ]
  },
  {
   "cell_type": "code",
   "execution_count": 11,
   "id": "a0b0be42",
   "metadata": {},
   "outputs": [
    {
     "name": "stdout",
     "output_type": "stream",
     "text": [
      "******************************\n",
      "Account details\n",
      "******************************\n",
      "Account Number:  102236\n",
      "Account Holder:  Vishnu\n",
      "Account balance:  100000.0\n",
      "******************************\n",
      "Account details\n",
      "******************************\n",
      "Account Number:  102236\n",
      "Account Holder:  Vishnu\n",
      "Account balance:  105000.0\n",
      "******************************\n",
      "Account details\n",
      "******************************\n",
      "Account Number:  102236\n",
      "Account Holder:  Vishnu\n",
      "Account balance:  97750.0\n"
     ]
    }
   ],
   "source": [
    "class BankAccount:\n",
    "    \n",
    "    def __init__(self,accountNumber,name,balance):\n",
    "        self.accountNumber=int(accountNumber)\n",
    "        self.name=name\n",
    "        self.balance=float(balance)\n",
    "    \n",
    "    def Deposit(self,deposit):\n",
    "        self.deposit=deposit\n",
    "        fee=self.bankFees()\n",
    "        self.balance=self.balance+self.deposit-fee\n",
    "        return self.balance\n",
    "    \n",
    "    def Withdrawal(self,withdrawal):\n",
    "        self.withdrawal=withdrawal\n",
    "        fee=self.bankFees()\n",
    "        self.balance=self.balance-self.withdrawal-fee\n",
    "        return self.balance\n",
    "    \n",
    "    def bankFees(self):\n",
    "        return (0.05*self.balance)\n",
    "    \n",
    "    def display(self):\n",
    "        print(\"*\"*30)\n",
    "        print(\"Account details\")\n",
    "        print(\"*\"*30)\n",
    "        \n",
    "        print(\"Account Number: \",self.accountNumber)\n",
    "        print(\"Account Holder: \",self.name)\n",
    "        print(\"Account balance: \",self.balance)\n",
    "\n",
    "p1=BankAccount(102236,\"Vishnu\",100000)\n",
    "p1.display()\n",
    "p1.Deposit(10000)\n",
    "p1.display()\n",
    "p1.Withdrawal(2000)\n",
    "p1.display()        "
   ]
  },
  {
   "cell_type": "code",
   "execution_count": 12,
   "id": "97a235c1",
   "metadata": {},
   "outputs": [
    {
     "name": "stdout",
     "output_type": "stream",
     "text": [
      "Enter account number: 122367\n",
      "Enter name: Priya\n",
      "Enter first time deposit: 30000\n",
      "******************************\n",
      "Account details\n",
      "******************************\n",
      "Account Number:  122367\n",
      "Account Holder:  Priya\n",
      "Account balance:  30000.0\n",
      "******************************\n",
      "Account details\n",
      "******************************\n",
      "Account Number:  122367\n",
      "Account Holder:  Priya\n",
      "Account balance:  38500.0\n",
      "******************************\n",
      "Account details\n",
      "******************************\n",
      "Account Number:  122367\n",
      "Account Holder:  Priya\n",
      "Account balance:  34575.0\n"
     ]
    }
   ],
   "source": [
    "accno=int(input(\"Enter account number: \"))\n",
    "name=input(\"Enter name: \")\n",
    "bal=float(input(\"Enter first time deposit: \"))\n",
    "\n",
    "p1=BankAccount(accno,name,bal)\n",
    "p1.display()\n",
    "p1.Deposit(10000)\n",
    "p1.display()\n",
    "p1.Withdrawal(2000)\n",
    "p1.display() "
   ]
  },
  {
   "cell_type": "raw",
   "id": "36b3f77e",
   "metadata": {},
   "source": [
    "10. Create a base class rectangle with attributes length and breadth, methods area and perimeter.\n",
    "a. Save the rectangle class as a python file rectangle.py file.\n",
    "b. Open another python script and import the rectangle.py file.\n",
    "c. In the newly created script derive a child class called Parallelepiped class inheriting from the Rectangle class and with a height attribute and another Volume() method to calculate the volume of the Parallelepiped.\n",
    "d. Now create objects for parent class and child class in newly created script and access methods of parent class and child class.\n",
    "(Upload the rectangle.py file and python script of question 10 as separate files in github and share the link Paatshala)"
   ]
  },
  {
   "cell_type": "markdown",
   "id": "f63c75db",
   "metadata": {},
   "source": [
    "https://github.com/VishnupriyaVijayan/ICTAK_Python_CaseStudy_02/blob/main/Q_10.ipynb"
   ]
  },
  {
   "cell_type": "code",
   "execution_count": null,
   "id": "2aee829a",
   "metadata": {},
   "outputs": [],
   "source": []
  }
 ],
 "metadata": {
  "kernelspec": {
   "display_name": "Python 3",
   "language": "python",
   "name": "python3"
  },
  "language_info": {
   "codemirror_mode": {
    "name": "ipython",
    "version": 3
   },
   "file_extension": ".py",
   "mimetype": "text/x-python",
   "name": "python",
   "nbconvert_exporter": "python",
   "pygments_lexer": "ipython3",
   "version": "3.8.8"
  }
 },
 "nbformat": 4,
 "nbformat_minor": 5
}
